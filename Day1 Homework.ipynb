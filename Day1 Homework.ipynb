{
 "cells": [
  {
   "cell_type": "code",
   "execution_count": 11,
   "metadata": {},
   "outputs": [
    {
     "name": "stdout",
     "output_type": "stream",
     "text": [
      "Merhaba class,\n",
      "Ben Betul, bende sizin gibi 5 gunluk egitime katildim ve Phyton ogreniyorum.\n"
     ]
    }
   ],
   "source": [
    "data1=\"Betul\"\n",
    "data2=\"Virginia\"\n",
    "data3=5\n",
    "data4=\"class\"\n",
    "data5=\"Phyton ogreniyorum.\"\n",
    "print(f'Merhaba {data4}' +\",\") \n",
    "print(\"Ben {}\".format(data1) + \", bende sizin gibi {}\".format(data3) + \" gunluk egitime katildim\" + \" ve {}\".format(data5))"
   ]
  },
  {
   "cell_type": "code",
   "execution_count": null,
   "metadata": {},
   "outputs": [],
   "source": []
  },
  {
   "cell_type": "code",
   "execution_count": null,
   "metadata": {},
   "outputs": [],
   "source": []
  }
 ],
 "metadata": {
  "kernelspec": {
   "display_name": "Python 3",
   "language": "python",
   "name": "python3"
  },
  "language_info": {
   "codemirror_mode": {
    "name": "ipython",
    "version": 3
   },
   "file_extension": ".py",
   "mimetype": "text/x-python",
   "name": "python",
   "nbconvert_exporter": "python",
   "pygments_lexer": "ipython3",
   "version": "3.8.5"
  }
 },
 "nbformat": 4,
 "nbformat_minor": 4
}
