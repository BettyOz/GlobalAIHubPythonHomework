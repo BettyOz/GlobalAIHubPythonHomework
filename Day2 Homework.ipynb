{
 "cells": [
  {
   "cell_type": "code",
   "execution_count": 17,
   "metadata": {},
   "outputs": [
    {
     "name": "stdout",
     "output_type": "stream",
     "text": [
      "        User Identification Program         \n",
      "\n",
      "First Name          : b\n",
      "Last Name           : e\n",
      "Age                 : 17\n",
      "Date of Birth (Year): 2002\n",
      "You can't go out because it's too dangerous\n"
     ]
    }
   ],
   "source": [
    "print(\"        User Identification Program         \" + \"\\n\")\n",
    "\n",
    "First_Name= input (\"First Name          : \")\n",
    "Last_Name = input (\"Last Name           : \")\n",
    "Age       = int(input (\"Age                 : \"))\n",
    "DOB       = int(input (\"Date of Birth (Year): \"))\n",
    "if Age < 18 or DOB >2003:\n",
    "    print(\"You can't go out because it's too dangerous\")\n",
    "else: \n",
    "    print (\"You can go out to the street\")\n"
   ]
  },
  {
   "cell_type": "code",
   "execution_count": null,
   "metadata": {},
   "outputs": [],
   "source": []
  }
 ],
 "metadata": {
  "kernelspec": {
   "display_name": "Python 3",
   "language": "python",
   "name": "python3"
  },
  "language_info": {
   "codemirror_mode": {
    "name": "ipython",
    "version": 3
   },
   "file_extension": ".py",
   "mimetype": "text/x-python",
   "name": "python",
   "nbconvert_exporter": "python",
   "pygments_lexer": "ipython3",
   "version": "3.8.5"
  }
 },
 "nbformat": 4,
 "nbformat_minor": 4
}
